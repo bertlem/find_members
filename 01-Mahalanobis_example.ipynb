{
 "cells": [
  {
   "cell_type": "markdown",
   "id": "fffacb82-9385-45f5-97cd-b04e2544812e",
   "metadata": {},
   "source": [
    "# Mahalanobis distance"
   ]
  },
  {
   "cell_type": "code",
   "execution_count": 15,
   "id": "ee0da04b-025f-42d8-80d8-3a123a1c9716",
   "metadata": {},
   "outputs": [],
   "source": [
    "import numpy as np\n",
    "import pandas as pd\n",
    "import scipy as sp\n",
    "\n",
    "import matplotlib.pyplot as plt\n",
    "\n",
    "from pathlib import Path"
   ]
  },
  {
   "cell_type": "code",
   "execution_count": 2,
   "id": "4d2ad161-beb9-4127-b535-e48192df8af4",
   "metadata": {},
   "outputs": [],
   "source": [
    "def plot_test_distribution(test_dist, df_vector, path, file):\n",
    "\n",
    "    import matplotlib.pyplot as plt\n",
    "\n",
    "    x, y = np.mgrid[-3:9:.01, -3:9:.01]\n",
    "    pos = np.dstack((x, y))\n",
    "\n",
    "    fig = plt.figure()\n",
    "    ax = fig.add_subplot(111)\n",
    "    ax.contourf(x,y, test_dist.pdf(pos))\n",
    "    ax.scatter(df_vector.X1, df_vector.X2, c='red', marker='x', s=5)\n",
    "    ax.set_title('Mahalanobis distance between the datapoints (red) and the underlying distribution')\n",
    "\n",
    "    plt.show()"
   ]
  },
  {
   "cell_type": "code",
   "execution_count": 3,
   "id": "d6b51679-b87b-4ee4-91ab-f877c90c98d2",
   "metadata": {},
   "outputs": [],
   "source": [
    "def prepare_Mahalanobis_test(n_datapoints, path, file):\n",
    "    '''\n",
    "    # As a test, we compute the Mahalanobis distances of two vectors [2,2] and [-2, -2]\n",
    "    # to a bivariate distribution of n_datapoints with a mean value: [3, 4]\n",
    "    # and a covariance matrix [[ 2, -1], \n",
    "                               [-1,  2]]\n",
    "    '''\n",
    "    \n",
    "    # prepare vector\n",
    "    x1, x2 = [2,2], [-2, -2]\n",
    "    vector = np.array([x1, x2])\n",
    "    df_vector = pd.DataFrame({'X1': vector[:, 0], 'X2': vector[:, 1]})\n",
    "    print('Vector=', df_vector)\n",
    "\n",
    "    # prepare distribution\n",
    "    import scipy as sp\n",
    "    test_mean=np.array( [3, 4])\n",
    "    test_cov=np.array([[2, -1], [-1, 2]])\n",
    "    test_dist = sp.stats.multivariate_normal(mean=test_mean, cov=test_cov, seed=42)\n",
    "    \n",
    "    data = test_dist.rvs(n_datapoints)\n",
    "    df_distrib = pd.DataFrame({'X1': data[:, 0], 'X2': data[:, 1]})\n",
    "    print('Distribution (head) =')\n",
    "    print(df_distrib[0:5])\n",
    "\n",
    "    plot_test_distribution(test_dist, df_vector, None, None)\n",
    "\n",
    "    return df_vector, df_distrib"
   ]
  },
  {
   "cell_type": "code",
   "execution_count": 4,
   "id": "b9c42520-21fd-42b0-b46b-63c0b48a4eac",
   "metadata": {},
   "outputs": [],
   "source": [
    "def Mahalanobis_distance(df_vector, df_distrib, list_of_cols):\n",
    "\n",
    "    # select data from dataframes\n",
    "    # ---------------------------\n",
    "    vector = pd.DataFrame(df_vector, columns=list_of_cols).to_numpy()\n",
    "    distrib = pd.DataFrame(df_distrib, columns=list_of_cols).to_numpy()\n",
    "    \n",
    "    # Dealing with the distribution\n",
    "    # -----------------------------\n",
    "    \n",
    "    # compute the mean\n",
    "    distrib_mean = []\n",
    "    for i in range(vector.shape[0]):  \n",
    "        # we take the shape of vector, for later computing the difference vector - distrib_mean \n",
    "        distrib_mean.append(list(distrib.mean(axis=0)))\n",
    "\n",
    "    # compute the covariance matrix\n",
    "    # rowvar=False because each column represents a variable\n",
    "    # alternative: cov_mat = np.cov(distrib.T) \n",
    "    cov_mat = np.cov(distrib, rowvar=False)\n",
    "        \n",
    "    # check that the covariance matrix is definite positive\n",
    "    if is_pos_def(cov_mat):\n",
    "        # compute the inverse of the covariance matrix\n",
    "        inv_cov = np.linalg.inv(cov_mat)\n",
    "\n",
    "        # check that the inverse covariance matrix is definite positive\n",
    "        if is_pos_def(inv_cov):\n",
    "            \n",
    "    # compute Mahalanobis distance\n",
    "    # ----------------------------\n",
    "    \n",
    "            # compute the difference (x-mu) \n",
    "            diff = vector - distrib_mean\n",
    "\n",
    "            # compute the matrix product and take the sqrt \n",
    "            md = []\n",
    "            for i in range(len(diff)):\n",
    "                md.append(np.sqrt(diff[i].T.dot(inv_cov).dot(diff[i])))\n",
    "    \n",
    "        else:\n",
    "            print(\"The inverse of the covariance matrix is not definite positive\")\n",
    "    else:\n",
    "        print(\"The covariance matrix is not definite positive\")\n",
    "\n",
    "    result = df_vector.copy().assign(Mahalanobis = md)\n",
    "\n",
    "    return result\n",
    "\n",
    "def is_pos_def(A):\n",
    "    if np.allclose(A, A.T):\n",
    "        try:\n",
    "            np.linalg.cholesky(A)\n",
    "            return True\n",
    "        except np.linalg.LinAlgError:\n",
    "            return False\n",
    "    else:\n",
    "        return False"
   ]
  },
  {
   "cell_type": "raw",
   "id": "2eb8f0f2-7b46-4dbf-aee4-582e37c2a345",
   "metadata": {},
   "source": [
    "df_distrib = pd.DataFrame({'X1': X[:, 0], 'X2': X[:, 1]})\n",
    "df_distrib.head()"
   ]
  },
  {
   "cell_type": "code",
   "execution_count": 5,
   "id": "96457424-ae80-4d3f-9b37-41d3b93a7d52",
   "metadata": {
    "scrolled": true
   },
   "outputs": [
    {
     "name": "stdout",
     "output_type": "stream",
     "text": [
      "Vector=    X1  X2\n",
      "0   2   2\n",
      "1  -2  -2\n",
      "Distribution (head) =\n",
      "         X1        X2\n",
      "0  2.293884  4.510580\n",
      "1  3.283692  5.870198\n",
      "2  3.121218  3.547662\n",
      "3  1.608526  6.476791\n",
      "4  3.958634  3.808662\n"
     ]
    },
    {
     "data": {
      "image/png": "[encoded data removed]",
      "text/plain": [
       "<Figure size 640x480 with 1 Axes>"
      ]
     },
     "metadata": {},
     "output_type": "display_data"
    }
   ],
   "source": [
    "df_vector, df_distrib = prepare_Mahalanobis_test(100000, None, None)"
   ]
  },
  {
   "cell_type": "code",
   "execution_count": 6,
   "id": "31accdc4-ffd1-4346-8b1d-8ef227739a89",
   "metadata": {},
   "outputs": [
    {
     "data": {
      "text/html": [
       "<div>\n",
       "<style scoped>\n",
       "    .dataframe tbody tr th:only-of-type {\n",
       "        vertical-align: middle;\n",
       "    }\n",
       "\n",
       "    .dataframe tbody tr th {\n",
       "        vertical-align: top;\n",
       "    }\n",
       "\n",
       "    .dataframe thead th {\n",
       "        text-align: right;\n",
       "    }\n",
       "</style>\n",
       "<table border=\"1\" class=\"dataframe\">\n",
       "  <thead>\n",
       "    <tr style=\"text-align: right;\">\n",
       "      <th></th>\n",
       "      <th>X1</th>\n",
       "      <th>X2</th>\n",
       "      <th>Mahalanobis</th>\n",
       "    </tr>\n",
       "  </thead>\n",
       "  <tbody>\n",
       "    <tr>\n",
       "      <th>0</th>\n",
       "      <td>2</td>\n",
       "      <td>2</td>\n",
       "      <td>2.160731</td>\n",
       "    </tr>\n",
       "    <tr>\n",
       "      <th>1</th>\n",
       "      <td>-2</td>\n",
       "      <td>-2</td>\n",
       "      <td>7.799678</td>\n",
       "    </tr>\n",
       "  </tbody>\n",
       "</table>\n",
       "</div>"
      ],
      "text/plain": [
       "   X1  X2  Mahalanobis\n",
       "0   2   2     2.160731\n",
       "1  -2  -2     7.799678"
      ]
     },
     "execution_count": 6,
     "metadata": {},
     "output_type": "execute_result"
    }
   ],
   "source": [
    "test =  Mahalanobis_distance(df_vector, df_distrib, ['X1', 'X2'])\n",
    "test"
   ]
  },
  {
   "cell_type": "code",
   "execution_count": 7,
   "id": "c0669416-59e7-4e60-b6ca-c22b7abe3092",
   "metadata": {},
   "outputs": [],
   "source": [
    "# TBD save figure"
   ]
  },
  {
   "cell_type": "code",
   "execution_count": 8,
   "id": "789ac0ac-7cb3-441c-a526-c31971857cd9",
   "metadata": {},
   "outputs": [
    {
     "ename": "NameError",
     "evalue": "name 'stop' is not defined",
     "output_type": "error",
     "traceback": [
      "\u001b[0;31m---------------------------------------------------------------------------\u001b[0m",
      "\u001b[0;31mNameError\u001b[0m                                 Traceback (most recent call last)",
      "Cell \u001b[0;32mIn[8], line 1\u001b[0m\n\u001b[0;32m----> 1\u001b[0m \u001b[43mstop\u001b[49m\n",
      "\u001b[0;31mNameError\u001b[0m: name 'stop' is not defined"
     ]
    }
   ],
   "source": [
    "stop"
   ]
  },
  {
   "cell_type": "markdown",
   "id": "12a793d1-5d34-4bb4-91f4-9aa6a0974099",
   "metadata": {},
   "source": [
    "# Using the Mahalanobis distance to identify outliers"
   ]
  },
  {
   "cell_type": "markdown",
   "id": "a18fc0cf-5b5d-4120-8725-ebc8a3dc0097",
   "metadata": {},
   "source": [
    "##### For that purpose, we will use the New York airquality dataset, which measures daily the air quality in New York, from May to September 1973."
   ]
  },
  {
   "cell_type": "code",
   "execution_count": 16,
   "id": "b143cf17-801a-4960-badc-0dd4ff636ac3",
   "metadata": {},
   "outputs": [],
   "source": [
    "path_data = Path('/home/lemasle/PROJECTS/datasets/NY_air_quality_1973')"
   ]
  },
  {
   "cell_type": "code",
   "execution_count": 25,
   "id": "169904ee-89bc-4c74-8e6c-dbd2a54b2929",
   "metadata": {},
   "outputs": [
    {
     "data": {
      "text/html": [
       "<div>\n",
       "<style scoped>\n",
       "    .dataframe tbody tr th:only-of-type {\n",
       "        vertical-align: middle;\n",
       "    }\n",
       "\n",
       "    .dataframe tbody tr th {\n",
       "        vertical-align: top;\n",
       "    }\n",
       "\n",
       "    .dataframe thead th {\n",
       "        text-align: right;\n",
       "    }\n",
       "</style>\n",
       "<table border=\"1\" class=\"dataframe\">\n",
       "  <thead>\n",
       "    <tr style=\"text-align: right;\">\n",
       "      <th></th>\n",
       "      <th>Ozone</th>\n",
       "      <th>Solar.R</th>\n",
       "      <th>Wind</th>\n",
       "      <th>Temp</th>\n",
       "      <th>Month</th>\n",
       "      <th>Day</th>\n",
       "    </tr>\n",
       "  </thead>\n",
       "  <tbody>\n",
       "    <tr>\n",
       "      <th>count</th>\n",
       "      <td>116.000000</td>\n",
       "      <td>146.000000</td>\n",
       "      <td>153.000000</td>\n",
       "      <td>153.000000</td>\n",
       "      <td>153.000000</td>\n",
       "      <td>153.000000</td>\n",
       "    </tr>\n",
       "    <tr>\n",
       "      <th>mean</th>\n",
       "      <td>42.129310</td>\n",
       "      <td>185.931507</td>\n",
       "      <td>9.957516</td>\n",
       "      <td>77.882353</td>\n",
       "      <td>6.993464</td>\n",
       "      <td>15.803922</td>\n",
       "    </tr>\n",
       "    <tr>\n",
       "      <th>std</th>\n",
       "      <td>32.987885</td>\n",
       "      <td>90.058422</td>\n",
       "      <td>3.523001</td>\n",
       "      <td>9.465270</td>\n",
       "      <td>1.416522</td>\n",
       "      <td>8.864520</td>\n",
       "    </tr>\n",
       "    <tr>\n",
       "      <th>min</th>\n",
       "      <td>1.000000</td>\n",
       "      <td>7.000000</td>\n",
       "      <td>1.700000</td>\n",
       "      <td>56.000000</td>\n",
       "      <td>5.000000</td>\n",
       "      <td>1.000000</td>\n",
       "    </tr>\n",
       "    <tr>\n",
       "      <th>25%</th>\n",
       "      <td>18.000000</td>\n",
       "      <td>115.750000</td>\n",
       "      <td>7.400000</td>\n",
       "      <td>72.000000</td>\n",
       "      <td>6.000000</td>\n",
       "      <td>8.000000</td>\n",
       "    </tr>\n",
       "    <tr>\n",
       "      <th>50%</th>\n",
       "      <td>31.500000</td>\n",
       "      <td>205.000000</td>\n",
       "      <td>9.700000</td>\n",
       "      <td>79.000000</td>\n",
       "      <td>7.000000</td>\n",
       "      <td>16.000000</td>\n",
       "    </tr>\n",
       "    <tr>\n",
       "      <th>75%</th>\n",
       "      <td>63.250000</td>\n",
       "      <td>258.750000</td>\n",
       "      <td>11.500000</td>\n",
       "      <td>85.000000</td>\n",
       "      <td>8.000000</td>\n",
       "      <td>23.000000</td>\n",
       "    </tr>\n",
       "    <tr>\n",
       "      <th>max</th>\n",
       "      <td>168.000000</td>\n",
       "      <td>334.000000</td>\n",
       "      <td>20.700000</td>\n",
       "      <td>97.000000</td>\n",
       "      <td>9.000000</td>\n",
       "      <td>31.000000</td>\n",
       "    </tr>\n",
       "  </tbody>\n",
       "</table>\n",
       "</div>"
      ],
      "text/plain": [
       "            Ozone     Solar.R        Wind        Temp       Month         Day\n",
       "count  116.000000  146.000000  153.000000  153.000000  153.000000  153.000000\n",
       "mean    42.129310  185.931507    9.957516   77.882353    6.993464   15.803922\n",
       "std     32.987885   90.058422    3.523001    9.465270    1.416522    8.864520\n",
       "min      1.000000    7.000000    1.700000   56.000000    5.000000    1.000000\n",
       "25%     18.000000  115.750000    7.400000   72.000000    6.000000    8.000000\n",
       "50%     31.500000  205.000000    9.700000   79.000000    7.000000   16.000000\n",
       "75%     63.250000  258.750000   11.500000   85.000000    8.000000   23.000000\n",
       "max    168.000000  334.000000   20.700000   97.000000    9.000000   31.000000"
      ]
     },
     "execution_count": 25,
     "metadata": {},
     "output_type": "execute_result"
    }
   ],
   "source": [
    "file = path_data / 'airquality.csv'\n",
    "air_qual = pd.read_csv(file, index_col=0)\n",
    "air_qual.describe()"
   ]
  },
  {
   "cell_type": "code",
   "execution_count": 35,
   "id": "229dfd41-cc97-4068-8ff1-e67c8c0bca93",
   "metadata": {},
   "outputs": [
    {
     "data": {
      "text/html": [
       "<div>\n",
       "<style scoped>\n",
       "    .dataframe tbody tr th:only-of-type {\n",
       "        vertical-align: middle;\n",
       "    }\n",
       "\n",
       "    .dataframe tbody tr th {\n",
       "        vertical-align: top;\n",
       "    }\n",
       "\n",
       "    .dataframe thead th {\n",
       "        text-align: right;\n",
       "    }\n",
       "</style>\n",
       "<table border=\"1\" class=\"dataframe\">\n",
       "  <thead>\n",
       "    <tr style=\"text-align: right;\">\n",
       "      <th></th>\n",
       "      <th>Ozone</th>\n",
       "      <th>Temp</th>\n",
       "    </tr>\n",
       "  </thead>\n",
       "  <tbody>\n",
       "    <tr>\n",
       "      <th>1</th>\n",
       "      <td>41.0</td>\n",
       "      <td>67</td>\n",
       "    </tr>\n",
       "    <tr>\n",
       "      <th>2</th>\n",
       "      <td>36.0</td>\n",
       "      <td>72</td>\n",
       "    </tr>\n",
       "    <tr>\n",
       "      <th>3</th>\n",
       "      <td>12.0</td>\n",
       "      <td>74</td>\n",
       "    </tr>\n",
       "    <tr>\n",
       "      <th>4</th>\n",
       "      <td>18.0</td>\n",
       "      <td>62</td>\n",
       "    </tr>\n",
       "    <tr>\n",
       "      <th>6</th>\n",
       "      <td>28.0</td>\n",
       "      <td>66</td>\n",
       "    </tr>\n",
       "  </tbody>\n",
       "</table>\n",
       "</div>"
      ],
      "text/plain": [
       "   Ozone  Temp\n",
       "1   41.0    67\n",
       "2   36.0    72\n",
       "3   12.0    74\n",
       "4   18.0    62\n",
       "6   28.0    66"
      ]
     },
     "execution_count": 35,
     "metadata": {},
     "output_type": "execute_result"
    }
   ],
   "source": [
    "# select only two variables and drop NaNs\n",
    "data = air_qual[['Ozone','Temp']].dropna()\n",
    "data.head()"
   ]
  },
  {
   "cell_type": "code",
   "execution_count": 51,
   "id": "81f41b36-9cf1-4b1a-a76c-f2b53a28be59",
   "metadata": {},
   "outputs": [
    {
     "name": "stdout",
     "output_type": "stream",
     "text": [
      "42.12931034482759 77.87068965517241\n",
      "[[1088.20052474  218.52121439]\n",
      " [ 218.52121439   89.97443778]]\n"
     ]
    }
   ],
   "source": [
    "meanx, meany = data.mean()\n",
    "print(meanx, meany)\n",
    "cov_mat = np.cov(data, rowvar=False)\n",
    "print(cov_mat)"
   ]
  },
  {
   "cell_type": "code",
   "execution_count": null,
   "id": "313d091b-36e0-4fad-9f03-20a50995c956",
   "metadata": {},
   "outputs": [],
   "source": [
    "Maha = Mahalanobis_distance(df_vector, df_distrib, ['X1', 'X2'])"
   ]
  },
  {
   "cell_type": "code",
   "execution_count": 54,
   "id": "31c6dbae-8cec-47b3-828c-08ac3fe96d77",
   "metadata": {},
   "outputs": [
    {
     "data": {
      "image/png": "[encoded data removed]",
      "text/plain": [
       "<Figure size 640x480 with 1 Axes>"
      ]
     },
     "metadata": {},
     "output_type": "display_data"
    }
   ],
   "source": [
    "def NY_ozone_plot(data, meanx, meany, path, filename):\n",
    "    \n",
    "    fig = plt.figure()\n",
    "    ax = fig.add_subplot(111)\n",
    "    \n",
    "    ax.scatter(data.Ozone, data.Temp, c='black', marker='.', s=10)\n",
    "    ax.scatter(meanx, meany, c='navy', marker='x', s=20)\n",
    "    ax.set_xlabel('Ozone (ppb)')\n",
    "    ax.set_ylabel('Temperature (F)')\n",
    "    ax.set_title('Temperature vs Ozone variations, New York, May-September 1973')\n",
    "\n",
    "\n",
    "NY_ozone_plot(data, meanx, meany, None, None)"
   ]
  },
  {
   "cell_type": "code",
   "execution_count": null,
   "id": "9f8a083d-eff2-483a-bac2-e8260cf03f19",
   "metadata": {},
   "outputs": [],
   "source": []
  },
  {
   "cell_type": "code",
   "execution_count": null,
   "id": "3013f4ed-484c-44e3-b8ed-3da0ab027fb9",
   "metadata": {},
   "outputs": [],
   "source": []
  },
  {
   "cell_type": "code",
   "execution_count": null,
   "id": "6b45d2df-a01c-466f-879f-019a1ef67fcc",
   "metadata": {},
   "outputs": [],
   "source": []
  },
  {
   "cell_type": "code",
   "execution_count": null,
   "id": "b7062415-0e6b-4985-a9cc-d76044f436dc",
   "metadata": {},
   "outputs": [],
   "source": []
  },
  {
   "cell_type": "code",
   "execution_count": null,
   "id": "55117ae2-7a7c-453a-b7b8-10ac002200da",
   "metadata": {},
   "outputs": [],
   "source": []
  },
  {
   "cell_type": "code",
   "execution_count": null,
   "id": "2ff1a83b-2f2c-4b25-bc0f-2fbe220fe50b",
   "metadata": {},
   "outputs": [],
   "source": []
  },
  {
   "cell_type": "code",
   "execution_count": null,
   "id": "cde1dae3-e032-4208-bd6a-2e5c38022422",
   "metadata": {},
   "outputs": [],
   "source": []
  },
  {
   "cell_type": "markdown",
   "id": "109d511e-cdc6-436c-8ef6-d9e4a1a473b2",
   "metadata": {},
   "source": [
    "## Test datasets"
   ]
  },
  {
   "cell_type": "code",
   "execution_count": 9,
   "id": "ee805d53-a48e-41ce-b962-47cef4c57d73",
   "metadata": {},
   "outputs": [],
   "source": [
    "data = { 'Price': [100000, 800000, 650000, 700000, \n",
    "               860000, 730000, 400000, 870000, \n",
    "               780000, 400000], \n",
    "     'Distance': [16000, 60000, 300000, 10000, \n",
    "                  252000, 350000, 260000, 510000, \n",
    "                  2000, 5000], \n",
    "     'Emission': [300, 400, 1230, 300, 400, 104, \n",
    "                  632, 221, 142, 267], \n",
    "     'Performance': [60, 88, 90, 87, 83, 81, 72,  \n",
    "                     91, 90, 93], \n",
    "     'Mileage': [76, 89, 89, 57, 79, 84, 78, 99,  \n",
    "                 97, 99] \n",
    "       } \n",
    "  \n",
    "# Creating dataset \n",
    "dataset1 = pd.DataFrame(data,columns=['Price', 'Distance', \n",
    "                                'Emission','Performance', \n",
    "                                'Mileage']) "
   ]
  },
  {
   "cell_type": "code",
   "execution_count": 12,
   "id": "b1f7ae1f-21a1-462e-b27e-7f4d9c36787a",
   "metadata": {},
   "outputs": [],
   "source": [
    "test2 =  Mahalanobis_distance(dataset1, dataset1, ['Price', 'Distance', \n",
    "                                'Emission','Performance', \n",
    "                                'Mileage'])"
   ]
  },
  {
   "cell_type": "code",
   "execution_count": 13,
   "id": "edc04dd2-b659-432a-bc3d-53fc86f022d7",
   "metadata": {},
   "outputs": [
    {
     "data": {
      "text/html": [
       "<div>\n",
       "<style scoped>\n",
       "    .dataframe tbody tr th:only-of-type {\n",
       "        vertical-align: middle;\n",
       "    }\n",
       "\n",
       "    .dataframe tbody tr th {\n",
       "        vertical-align: top;\n",
       "    }\n",
       "\n",
       "    .dataframe thead th {\n",
       "        text-align: right;\n",
       "    }\n",
       "</style>\n",
       "<table border=\"1\" class=\"dataframe\">\n",
       "  <thead>\n",
       "    <tr style=\"text-align: right;\">\n",
       "      <th></th>\n",
       "      <th>Price</th>\n",
       "      <th>Distance</th>\n",
       "      <th>Emission</th>\n",
       "      <th>Performance</th>\n",
       "      <th>Mileage</th>\n",
       "      <th>Mahalanobis</th>\n",
       "    </tr>\n",
       "  </thead>\n",
       "  <tbody>\n",
       "    <tr>\n",
       "      <th>0</th>\n",
       "      <td>100000</td>\n",
       "      <td>16000</td>\n",
       "      <td>300</td>\n",
       "      <td>60</td>\n",
       "      <td>76</td>\n",
       "      <td>2.460846</td>\n",
       "    </tr>\n",
       "    <tr>\n",
       "      <th>1</th>\n",
       "      <td>800000</td>\n",
       "      <td>60000</td>\n",
       "      <td>400</td>\n",
       "      <td>88</td>\n",
       "      <td>89</td>\n",
       "      <td>1.605946</td>\n",
       "    </tr>\n",
       "    <tr>\n",
       "      <th>2</th>\n",
       "      <td>650000</td>\n",
       "      <td>300000</td>\n",
       "      <td>1230</td>\n",
       "      <td>90</td>\n",
       "      <td>89</td>\n",
       "      <td>2.600486</td>\n",
       "    </tr>\n",
       "    <tr>\n",
       "      <th>3</th>\n",
       "      <td>700000</td>\n",
       "      <td>10000</td>\n",
       "      <td>300</td>\n",
       "      <td>87</td>\n",
       "      <td>57</td>\n",
       "      <td>2.735447</td>\n",
       "    </tr>\n",
       "    <tr>\n",
       "      <th>4</th>\n",
       "      <td>860000</td>\n",
       "      <td>252000</td>\n",
       "      <td>400</td>\n",
       "      <td>83</td>\n",
       "      <td>79</td>\n",
       "      <td>1.424043</td>\n",
       "    </tr>\n",
       "    <tr>\n",
       "      <th>5</th>\n",
       "      <td>730000</td>\n",
       "      <td>350000</td>\n",
       "      <td>104</td>\n",
       "      <td>81</td>\n",
       "      <td>84</td>\n",
       "      <td>1.542937</td>\n",
       "    </tr>\n",
       "    <tr>\n",
       "      <th>6</th>\n",
       "      <td>400000</td>\n",
       "      <td>260000</td>\n",
       "      <td>632</td>\n",
       "      <td>72</td>\n",
       "      <td>78</td>\n",
       "      <td>1.465424</td>\n",
       "    </tr>\n",
       "    <tr>\n",
       "      <th>7</th>\n",
       "      <td>870000</td>\n",
       "      <td>510000</td>\n",
       "      <td>221</td>\n",
       "      <td>91</td>\n",
       "      <td>99</td>\n",
       "      <td>2.217056</td>\n",
       "    </tr>\n",
       "    <tr>\n",
       "      <th>8</th>\n",
       "      <td>780000</td>\n",
       "      <td>2000</td>\n",
       "      <td>142</td>\n",
       "      <td>90</td>\n",
       "      <td>97</td>\n",
       "      <td>2.006377</td>\n",
       "    </tr>\n",
       "    <tr>\n",
       "      <th>9</th>\n",
       "      <td>400000</td>\n",
       "      <td>5000</td>\n",
       "      <td>267</td>\n",
       "      <td>93</td>\n",
       "      <td>99</td>\n",
       "      <td>2.573532</td>\n",
       "    </tr>\n",
       "  </tbody>\n",
       "</table>\n",
       "</div>"
      ],
      "text/plain": [
       "    Price  Distance  Emission  Performance  Mileage  Mahalanobis\n",
       "0  100000     16000       300           60       76     2.460846\n",
       "1  800000     60000       400           88       89     1.605946\n",
       "2  650000    300000      1230           90       89     2.600486\n",
       "3  700000     10000       300           87       57     2.735447\n",
       "4  860000    252000       400           83       79     1.424043\n",
       "5  730000    350000       104           81       84     1.542937\n",
       "6  400000    260000       632           72       78     1.465424\n",
       "7  870000    510000       221           91       99     2.217056\n",
       "8  780000      2000       142           90       97     2.006377\n",
       "9  400000      5000       267           93       99     2.573532"
      ]
     },
     "execution_count": 13,
     "metadata": {},
     "output_type": "execute_result"
    }
   ],
   "source": [
    "test2"
   ]
  },
  {
   "cell_type": "raw",
   "id": "be4b6961-8894-4fe0-8c7d-7c3bc88a732f",
   "metadata": {},
   "source": [
    "dataset1\n",
    "X1 = dataset1.to_numpy()"
   ]
  },
  {
   "cell_type": "code",
   "execution_count": null,
   "id": "f5b3c938-fcc9-48a4-82f2-9f26ec69d97d",
   "metadata": {},
   "outputs": [],
   "source": [
    "def create_data(examples=50, features=5, upper_bound=10, outliers_fraction=0.1, extreme=False):\n",
    "    '''\n",
    "    This method for testing (i.e. to generate a 2D array of data)\n",
    "    '''\n",
    "    data = []\n",
    "    magnitude = 4 if extreme else 3\n",
    "    for i in range(examples):\n",
    "        if (examples - i) <= round((float(examples) * outliers_fraction)):\n",
    "            data.append(np.random.poisson(upper_bound ** magnitude, features).tolist())\n",
    "        else:\n",
    "            data.append(np.random.poisson(upper_bound, features).tolist())\n",
    "    return np.array(data)"
   ]
  },
  {
   "cell_type": "code",
   "execution_count": null,
   "id": "1e576f84-5564-454a-9cb5-7b56baaf4891",
   "metadata": {},
   "outputs": [],
   "source": [
    "dataset2 = create_data(15, 3, 10, 0.1)\n",
    "print(\"data:\\n {}\\n\".format(dataset2))"
   ]
  },
  {
   "cell_type": "markdown",
   "id": "0a3af510-c9d8-4fba-80f5-26e818f92ac3",
   "metadata": {},
   "source": [
    "## Code"
   ]
  },
  {
   "cell_type": "raw",
   "id": "14fc8b93-0a0b-46fc-b382-fa1c0612f76e",
   "metadata": {},
   "source": [
    "def mahalanobis(delta, cov):\n",
    "    ci = np.linalg.pinv(cov)\n",
    "    return np.sum(((delta @ ci) * delta), axis=-1)"
   ]
  },
  {
   "cell_type": "raw",
   "id": "f6f778b0-0588-411d-a887-ca6c63d7c4d8",
   "metadata": {},
   "source": [
    "def mahalanobis_eigh(delta, cov):\n",
    "    s, u = np.linalg.eigh(cov)\n",
    "    # note: missing filtering of small s, which you might want to consider adding - pinv already does this for you\n",
    "    ci = u @ (1/s[...,None] * u.T)\n",
    "    return np.sum(((delta @ ci) * delta), axis=-1)"
   ]
  },
  {
   "cell_type": "raw",
   "id": "decc2c7d-3600-409e-b264-8340e1024161",
   "metadata": {},
   "source": [
    "df['Mahalanobis'] = mahalanobis(y=df, data=df[[ \n",
    "  'Price', 'Distance', 'Emission','Performance', 'Mileage']]) "
   ]
  },
  {
   "cell_type": "raw",
   "id": "8cf7ade3-fb5e-4a65-b990-46f96dd8dd05",
   "metadata": {},
   "source": [
    "def MahalanobisDist(data, verbose=False):\n",
    "    covariance_matrix = np.cov(data, rowvar=False)\n",
    "    if is_pos_def(covariance_matrix):\n",
    "        inv_covariance_matrix = np.linalg.inv(covariance_matrix)\n",
    "        if is_pos_def(inv_covariance_matrix):\n",
    "            vars_mean = []\n",
    "            for i in range(data.shape[0]):\n",
    "                vars_mean.append(list(data.mean(axis=0)))\n",
    "            diff = data - vars_mean\n",
    "            md = []\n",
    "            for i in range(len(diff)):\n",
    "                md.append(np.sqrt(diff[i].T.dot(inv_covariance_matrix).dot(diff[i])))\n",
    "\n",
    "            if verbose:\n",
    "                print(\"Covariance Matrix:\\n {}\\n\".format(covariance_matrix))\n",
    "                print(\"Inverse of Covariance Matrix:\\n {}\\n\".format(inv_covariance_matrix))\n",
    "                print(\"Variables Mean Vector:\\n {}\\n\".format(vars_mean))\n",
    "                print(\"Variables - Variables Mean Vector:\\n {}\\n\".format(diff))\n",
    "                print(\"Mahalanobis Distance:\\n {}\\n\".format(md))\n",
    "            return md\n",
    "        else:\n",
    "            print(\"Error: Inverse of Covariance Matrix is not positive definite!\")\n",
    "    else:\n",
    "        print(\"Error: Covariance Matrix is not positive definite!\")\n",
    "\n",
    "def is_pos_def(A):\n",
    "    if np.allclose(A, A.T):\n",
    "        try:\n",
    "            np.linalg.cholesky(A)\n",
    "            return True\n",
    "        except np.linalg.LinAlgError:\n",
    "            return False\n",
    "    else:\n",
    "        return False"
   ]
  },
  {
   "cell_type": "code",
   "execution_count": null,
   "id": "668c23e9-7527-4a01-9941-ed591d3b8bd8",
   "metadata": {},
   "outputs": [],
   "source": [
    "X_test = np.array([[ 12,   7,   9],\n",
    "          [  9,  16,   7],\n",
    "          [ 14,  11,  10],\n",
    "          [ 14,   5,   5],\n",
    "          [ 12,   8,   7],\n",
    "          [  8,   8,  10],\n",
    "          [  9,  14,   8],\n",
    "          [ 12,  12,  10],\n",
    "          [ 18,  10,   6],\n",
    "          [  6,  12,  11],\n",
    "          [  4,  12,  15],\n",
    "          [  5,  13,  10],\n",
    "          [  8,   9,   8],\n",
    "          [106, 116,  97],\n",
    "          [ 90, 116, 114]] )"
   ]
  },
  {
   "cell_type": "raw",
   "id": "d13c9269-545e-4dd3-956c-20cccc170f89",
   "metadata": {},
   "source": [
    "MahalanobisDist(X_test, verbose=True)"
   ]
  },
  {
   "cell_type": "raw",
   "id": "f033b647-7c95-4369-a952-4d4d63fbe0fb",
   "metadata": {},
   "source": [
    "filepath = 'https://raw.githubusercontent.com/selva86/datasets/master/diamonds.csv'\n",
    "df3 = pd.read_csv(filepath).iloc[:, [0,4,6]]\n",
    "df3.head()"
   ]
  },
  {
   "cell_type": "raw",
   "id": "1e96163a-7ac1-4f65-b4f3-6643720460b4",
   "metadata": {},
   "source": [
    "X3 = df3[['carat', 'depth', 'price']].to_numpy()"
   ]
  },
  {
   "cell_type": "raw",
   "id": "041cba39-5fc8-4dde-b286-c4c4b5079db9",
   "metadata": {},
   "source": [
    "MahalanobisDist(X3, verbose=False)[0:10]"
   ]
  },
  {
   "cell_type": "raw",
   "id": "cd3f26fe-c6e9-4190-9334-d35622f81d82",
   "metadata": {},
   "source": [
    "import scipy as sp\n",
    "def mahalanobis(x=None, data=None, cov=None):\n",
    "    \"\"\"Compute the Mahalanobis Distance between each row of x and the data  \n",
    "    x    : vector or matrix of data with, say, p columns.\n",
    "    data : ndarray of the distribution from which Mahalanobis distance of each observation of x is to be computed.\n",
    "    cov  : covariance matrix (p x p) of the distribution. If None, will be computed from data.\n",
    "    \"\"\"\n",
    "    x_minus_mu = x - np.mean(data)\n",
    "    if not cov:\n",
    "        cov = np.cov(data.values.T)\n",
    "    inv_covmat = sp.linalg.inv(cov)\n",
    "    left_term = np.dot(x_minus_mu, inv_covmat)\n",
    "    mahal = np.dot(left_term, x_minus_mu.T)\n",
    "    return mahal.diagonal()\n",
    "\n",
    "df_x = df3[['carat', 'depth', 'price']].head(500)\n",
    "df_x['mahala'] = mahalanobis(x=df_x, data=df3[['carat', 'depth', 'price']])\n",
    "df_x.head()"
   ]
  },
  {
   "cell_type": "raw",
   "id": "2947fa04-f5e6-44cb-af70-2aafcf712205",
   "metadata": {},
   "source": [
    "test = my_maha(dataset1, ['Price','Emission','Mileage'])\n",
    "test"
   ]
  }
 ],
 "metadata": {
  "kernelspec": {
   "display_name": "Python 3 (ipykernel)",
   "language": "python",
   "name": "python3"
  },
  "language_info": {
   "codemirror_mode": {
    "name": "ipython",
    "version": 3
   },
   "file_extension": ".py",
   "mimetype": "text/x-python",
   "name": "python",
   "nbconvert_exporter": "python",
   "pygments_lexer": "ipython3",
   "version": "3.12.1"
  }
 },
 "nbformat": 4,
 "nbformat_minor": 5
}
